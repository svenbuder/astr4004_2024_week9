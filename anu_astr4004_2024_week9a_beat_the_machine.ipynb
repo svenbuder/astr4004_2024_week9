{
 "cells": [
  {
   "cell_type": "markdown",
   "id": "574ebc38",
   "metadata": {
    "toc": true
   },
   "source": [
    "<h1>Table of Contents<span class=\"tocSkip\"></span></h1>\n",
    "<div class=\"toc\"><ul class=\"toc-item\"><li><span><a href=\"#Task-1\" data-toc-modified-id=\"Task-1-1\"><span class=\"toc-item-num\">1&nbsp;&nbsp;</span>Task 1</a></span></li><li><span><a href=\"#Task-2\" data-toc-modified-id=\"Task-2-2\"><span class=\"toc-item-num\">2&nbsp;&nbsp;</span>Task 2</a></span></li></ul></div>"
   ]
  },
  {
   "cell_type": "code",
   "execution_count": 3,
   "id": "9ce7e17c",
   "metadata": {},
   "outputs": [],
   "source": [
    "import numpy as np\n",
    "import time"
   ]
  },
  {
   "cell_type": "markdown",
   "id": "aca5bf9a",
   "metadata": {},
   "source": [
    "## Task 1\n",
    "\n",
    "Solve the following equations in python:  \n",
    "\n",
    "AB + CD + EF = GH and GH + J == 100 and A < C < E and B < D < F\n",
    "\n",
    "Digits are between 1 and 9.  \n",
    "Each digit is used only once  \n",
    "\n",
    "One of you:\n",
    "actually try to solve it by hand.  \n",
    "The other one: solve it with python.  \n",
    "Once you have a winner (or 10 minutes have passed): use ChatGPT to optimise\n"
   ]
  },
  {
   "cell_type": "code",
   "execution_count": 4,
   "id": "0a50de50",
   "metadata": {},
   "outputs": [
    {
     "name": "stdout",
     "output_type": "stream",
     "text": [
      "1\n",
      "2\n",
      "3\n",
      "4\n",
      "5\n",
      "6\n",
      "7\n",
      "8\n",
      "9\n"
     ]
    }
   ],
   "source": [
    "# For starters: we can use a numpy array to loop over a letter, such as a in [1,2,3,4,5,6,7,8,9]\n",
    "for a in np.arange(1,10):\n",
    "    print(a)"
   ]
  },
  {
   "cell_type": "code",
   "execution_count": null,
   "id": "40642690",
   "metadata": {},
   "outputs": [],
   "source": []
  },
  {
   "cell_type": "code",
   "execution_count": 5,
   "id": "709c2ced",
   "metadata": {
    "code_folding": [],
    "scrolled": false
   },
   "outputs": [
    {
     "name": "stdout",
     "output_type": "stream",
     "text": [
      "a,b,c,d,e,f,g,h,j\n",
      "1 5 3 6 4 7 9 8 2\n",
      "0.505363941192627\n"
     ]
    }
   ],
   "source": [
    "# Bruteforce: let's loop over all letters\n",
    "time_start = time.time()\n",
    "for a in np.arange(1,10):\n",
    "    for b in np.arange(1,10):\n",
    "        for c in np.arange(1,10):\n",
    "            if (a < c):\n",
    "                for d in np.arange(1,10):\n",
    "                    if (b < d):\n",
    "                        for e in np.arange(1,10):\n",
    "                            if (c < e):\n",
    "                                for f in np.arange(1,10):\n",
    "                                    if d < f:\n",
    "                                        for g in np.arange(1,10):\n",
    "                                            for h in np.arange(1,10):\n",
    "                                                if (10*a+b + 10*c+d + 10*e+f == 10*g+h):\n",
    "                                                    for j in np.arange(1,10):\n",
    "                                                        \n",
    "                                                        if len(np.unique([a,b,c,d,e,f,g,h,j])) == 9:\n",
    "\n",
    "                                                            # Test if the requirements are met\n",
    "                                                            if (\n",
    "                                                                (10*g+h + j == 100)\n",
    "                                                            ):\n",
    "                                                                print('a,b,c,d,e,f,g,h,j')\n",
    "                                                                print(a,b,c,d,e,f,g,h,j)\n",
    "\n",
    "loop_time = time.time()-time_start\n",
    "print(loop_time)"
   ]
  },
  {
   "cell_type": "code",
   "execution_count": 6,
   "id": "4ea45e2e",
   "metadata": {
    "code_folding": []
   },
   "outputs": [
    {
     "name": "stdout",
     "output_type": "stream",
     "text": [
      "a,b,c,d,e,f,g,h,j\n",
      "1 5 3 6 4 7 9 8 2\n",
      "0.15313100814819336\n"
     ]
    }
   ],
   "source": [
    "# A slightly smarter way:\n",
    "from itertools import permutations\n",
    "\n",
    "time_start = time.time()\n",
    "\n",
    "perms = permutations(np.arange(1,10))\n",
    "for perm in perms:\n",
    "    a,b,c,d,e,f,g,h,j = perm\n",
    "    if (a < c < e) & (b < d < f):\n",
    "        if (10*a+b + 10*c+d + 10*e+f == 10*g+h) & (10*g+h + j == 100):\n",
    "            print('a,b,c,d,e,f,g,h,j')\n",
    "            print(a,b,c,d,e,f,g,h,j)\n",
    "\n",
    "first_time = time.time() - time_start\n",
    "print(first_time)"
   ]
  },
  {
   "cell_type": "code",
   "execution_count": 7,
   "id": "0bd0fd3d",
   "metadata": {
    "code_folding": []
   },
   "outputs": [
    {
     "name": "stdout",
     "output_type": "stream",
     "text": [
      "a,b,c,d,e,f,g,h,j\n",
      "1 5 3 6 4 7 9 8 2\n",
      "0.4127340316772461\n"
     ]
    }
   ],
   "source": [
    "# Can we optimise the loops?\n",
    "\n",
    "from itertools import permutations\n",
    "\n",
    "time_start = time.time()\n",
    "\n",
    "perms = permutations(np.arange(1,10))\n",
    "for perm in perms:\n",
    "    a,b,c,d,e,f,g,h,j = perm\n",
    "    if (a < c < e) & (b < d < f) & (10*a+b + 10*c+d + 10*e+f == 10*g+h) & (10*g+h + j == 100):\n",
    "        print('a,b,c,d,e,f,g,h,j')\n",
    "        print(a,b,c,d,e,f,g,h,j)\n",
    "\n",
    "first_time = time.time() - time_start\n",
    "print(first_time)"
   ]
  },
  {
   "cell_type": "code",
   "execution_count": 8,
   "id": "7aae8eb1",
   "metadata": {
    "code_folding": []
   },
   "outputs": [
    {
     "name": "stdout",
     "output_type": "stream",
     "text": [
      "a,b,c,d,e,f,g,h,j\n",
      "1 5 3 6 4 7 9 8 2\n",
      "0.12129998207092285\n"
     ]
    }
   ],
   "source": [
    "# Can we optimise them in a different way?\n",
    "\n",
    "from itertools import permutations\n",
    "\n",
    "time_start = time.time()\n",
    "\n",
    "perms = permutations(np.arange(1,10))\n",
    "for perm in perms:\n",
    "    a,b,c,d,e,f,g,h,j = perm\n",
    "    if (a < c < e):\n",
    "        if (b < d < f):\n",
    "            if (10*a+b + 10*c+d + 10*e+f == 10*g+h):\n",
    "                if (10*g+h + j == 100):\n",
    "                    print('a,b,c,d,e,f,g,h,j')\n",
    "                    print(a,b,c,d,e,f,g,h,j)\n",
    "\n",
    "first_time = time.time() - time_start\n",
    "print(first_time)"
   ]
  },
  {
   "cell_type": "code",
   "execution_count": 9,
   "id": "f65fb6a7",
   "metadata": {
    "code_folding": []
   },
   "outputs": [
    {
     "name": "stdout",
     "output_type": "stream",
     "text": [
      "0.004697084426879883\n"
     ]
    }
   ],
   "source": [
    "# Now let's ask ChatGPT how to optimise the Bruteforce way: \"Can you help me to optimise the following code: ...\"\n",
    "\n",
    "time_start = time.time()\n",
    "# Pre-calculate possible values for 'j' based on 'g' and 'h'\n",
    "possible_j_values = {g * 10 + h: 10 - g - h for g in range(1, 10) for h in range(1, 10) if 10 - g - h > 0}\n",
    "\n",
    "# Iterate with constraints applied\n",
    "for a in range(1, 8):  # 'a' can be at most 7 to satisfy 'a < c < e'\n",
    "    for c in range(a + 1, 9):  # Start from 'a + 1' to satisfy 'a < c'\n",
    "        for e in range(c + 1, 10):  # Start from 'c + 1' to satisfy 'c < e'\n",
    "            for b in range(1, 8):\n",
    "                for d in range(b + 1, 9):\n",
    "                    for f in range(d + 1, 10):\n",
    "                        g_and_h_sum = 10 * a + b + 10 * c + d + 10 * e + f\n",
    "                        if g_and_h_sum in possible_j_values:\n",
    "                            j = possible_j_values[g_and_h_sum]\n",
    "                            if len(np.unique([a, b, c, d, e, f, g_and_h_sum // 10, g_and_h_sum % 10, j])) == 9:\n",
    "                                print('a,b,c,d,e,f,g,h,j')\n",
    "                                print(f'{a}, {b}, {c}, {d}, {e}, {f}, {g_and_h_sum // 10}, {g_and_h_sum % 10}, {j}')\n",
    "\n",
    "optimised_time = time.time()-time_start\n",
    "print(optimised_time)"
   ]
  },
  {
   "cell_type": "code",
   "execution_count": 10,
   "id": "1393e84a",
   "metadata": {},
   "outputs": [
    {
     "name": "stdout",
     "output_type": "stream",
     "text": [
      "speedup via smarter bruteforce:  107.59098522917618\n",
      "speedup via all itertool.permutations:  4.166232612442975\n"
     ]
    }
   ],
   "source": [
    "print('speedup via smarter bruteforce: ',loop_time/optimised_time)\n",
    "print('speedup via all itertool.permutations: ',loop_time/first_time)"
   ]
  },
  {
   "cell_type": "markdown",
   "id": "88eb3dc5",
   "metadata": {},
   "source": [
    "## Task 2\n",
    "\n",
    "Solve the following equation:  \n",
    "((4-1) * (a - b) + c) * (d + e + f) = 90  \n",
    "Consider the solution must use all of the digits 0-9 once and once only (including those already filled in)  \n",
    "\n",
    "Whoever did not solve problem 1 by hand: solve it by hand.  \n",
    "The other one: solve it with python.  \n",
    "Once you have a winner: use ChatGPT to optimise"
   ]
  },
  {
   "cell_type": "code",
   "execution_count": 11,
   "id": "a5bca6eb",
   "metadata": {
    "code_folding": [
     0
    ]
   },
   "outputs": [
    {
     "name": "stdout",
     "output_type": "stream",
     "text": [
      "((4-1) * (8-7)+6)*(5+3+2) == 90\n",
      "a,b,c,d,e,f\n",
      "8 7 6 5 3 2\n",
      "Highest number:  876532\n",
      "0.28146982192993164\n"
     ]
    }
   ],
   "source": [
    "# Again loop\n",
    "\n",
    "time_start = time.time()\n",
    "\n",
    "# Trying to find the highest number\n",
    "missing_numbers = [8,7,6,5,3,2]\n",
    "\n",
    "highest_number = 0\n",
    "\n",
    "for a in missing_numbers:\n",
    "    for b in missing_numbers:\n",
    "        for c in missing_numbers:\n",
    "            for d in missing_numbers:\n",
    "                for e in missing_numbers:\n",
    "                    for f in missing_numbers:\n",
    "                        if len(np.unique([a,b,c,d,e,f])) == 6:\n",
    "                            # Test if the requirements are met\n",
    "                            if ((4-1) * (a - b) + c) * (d+e+f) == 90:\n",
    "                                \n",
    "                                current_number = f+10*e+100*d+1000*c+10000*b+100000*a\n",
    "                                \n",
    "                                if current_number > highest_number:\n",
    "                                    highest_number = current_number\n",
    "                                    print('((4-1) * ('+str(a)+'-'+str(b)+')+'+str(c)+')*('+str(d)+'+'+str(e)+'+'+str(f)+') == 90')\n",
    "                                    print('a,b,c,d,e,f')\n",
    "                                    print(a,b,c,d,e,f)\n",
    "print('Highest number: ',highest_number)\n",
    "\n",
    "loop_time = time.time()-time_start\n",
    "print(loop_time)"
   ]
  },
  {
   "cell_type": "code",
   "execution_count": 12,
   "id": "7c9f3b75",
   "metadata": {
    "code_folding": [
     0
    ]
   },
   "outputs": [
    {
     "name": "stdout",
     "output_type": "stream",
     "text": [
      "((4-1) * (8-7)+6)*(5+3+2) == 90\n",
      "a, b, c, d, e, f: 8 7 6 5 3 2\n",
      "Highest number: 876532\n",
      "0.0008208751678466797\n"
     ]
    }
   ],
   "source": [
    "# Now let's ask ChatGPT: \"Can you help me to optimise the following code: ...\"\n",
    "\n",
    "from itertools import permutations\n",
    "\n",
    "time_start = time.time()\n",
    "\n",
    "missing_numbers = [8, 7, 6, 5, 3, 2]\n",
    "\n",
    "highest_number = 0\n",
    "\n",
    "# Generate all unique 6-number permutations of missing_numbers\n",
    "for perm in permutations(missing_numbers, 6):\n",
    "    a, b, c, d, e, f = perm\n",
    "    # Directly use the perm tuple to avoid redundant uniqueness check with np.unique\n",
    "    # Check the given mathematical condition\n",
    "    if ((4-1) * (a - b) + c) * (d + e + f) == 90:\n",
    "        current_number = f + 10*e + 100*d + 1000*c + 10000*b + 100000*a\n",
    "        if current_number > highest_number:\n",
    "            highest_number = current_number\n",
    "            print(f'((4-1) * ({a}-{b})+{c})*({d}+{e}+{f}) == 90')\n",
    "            print('a, b, c, d, e, f:', a, b, c, d, e, f)\n",
    "\n",
    "print('Highest number:', highest_number)\n",
    "\n",
    "optimised_time = time.time()-time_start\n",
    "print(optimised_time)"
   ]
  },
  {
   "cell_type": "code",
   "execution_count": 13,
   "id": "b9b81eb6",
   "metadata": {},
   "outputs": [
    {
     "name": "stdout",
     "output_type": "stream",
     "text": [
      "speedup:  342.8899215800174\n"
     ]
    }
   ],
   "source": [
    "print('speedup: ',loop_time/optimised_time)"
   ]
  },
  {
   "cell_type": "code",
   "execution_count": null,
   "id": "78de569a",
   "metadata": {},
   "outputs": [],
   "source": []
  }
 ],
 "metadata": {
  "kernelspec": {
   "display_name": "Python 3 (ipykernel)",
   "language": "python",
   "name": "python3"
  },
  "language_info": {
   "codemirror_mode": {
    "name": "ipython",
    "version": 3
   },
   "file_extension": ".py",
   "mimetype": "text/x-python",
   "name": "python",
   "nbconvert_exporter": "python",
   "pygments_lexer": "ipython3",
   "version": "3.9.12"
  },
  "toc": {
   "base_numbering": 1,
   "nav_menu": {},
   "number_sections": true,
   "sideBar": true,
   "skip_h1_title": true,
   "title_cell": "Table of Contents",
   "title_sidebar": "Contents",
   "toc_cell": true,
   "toc_position": {
    "height": "calc(100% - 180px)",
    "left": "10px",
    "top": "150px",
    "width": "165px"
   },
   "toc_section_display": true,
   "toc_window_display": true
  }
 },
 "nbformat": 4,
 "nbformat_minor": 5
}
